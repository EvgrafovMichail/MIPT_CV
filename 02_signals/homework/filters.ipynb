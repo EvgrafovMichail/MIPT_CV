{
 "cells": [
  {
   "cell_type": "code",
   "execution_count": 1,
   "id": "40a3029d",
   "metadata": {},
   "outputs": [],
   "source": [
    "import numpy as np"
   ]
  },
  {
   "cell_type": "code",
   "execution_count": 2,
   "id": "99b99778",
   "metadata": {},
   "outputs": [],
   "source": [
    "def lf_filter(spectrum, threshold):\n",
    "    \n",
    "    x, y = np.arange(spectrum.shape[1]), np.arange(spectrum.shape[0])\n",
    "    delta_x = x[np.newaxis, :] - spectrum.shape[1] / 2 \n",
    "    delta_y = y[:, np.newaxis] - spectrum.shape[0] / 2\n",
    "    \n",
    "    distances = np.sqrt(delta_y ** 2 + delta_x ** 2)\n",
    "    \n",
    "    filtred = np.where(distances < threshold, spectrum, np.zeros_like(spectrum))\n",
    "                \n",
    "    return filtred"
   ]
  },
  {
   "cell_type": "code",
   "execution_count": 3,
   "id": "8b101eac",
   "metadata": {},
   "outputs": [],
   "source": [
    "def hf_filter(spectrum, threshold):\n",
    "    \n",
    "    x, y = np.arange(spectrum.shape[1]), np.arange(spectrum.shape[0])\n",
    "    delta_x = x[np.newaxis, :] - spectrum.shape[1] / 2 \n",
    "    delta_y = y[:, np.newaxis] - spectrum.shape[0] / 2\n",
    "    \n",
    "    distances = np.sqrt(delta_y ** 2 + delta_x ** 2)\n",
    "    \n",
    "    filtred = np.where(distances > threshold, spectrum, np.zeros_like(spectrum))\n",
    "                \n",
    "    return filtred"
   ]
  },
  {
   "cell_type": "code",
   "execution_count": null,
   "id": "5570ea49",
   "metadata": {},
   "outputs": [],
   "source": []
  }
 ],
 "metadata": {
  "kernelspec": {
   "display_name": "Python 3 (ipykernel)",
   "language": "python",
   "name": "python3"
  },
  "language_info": {
   "codemirror_mode": {
    "name": "ipython",
    "version": 3
   },
   "file_extension": ".py",
   "mimetype": "text/x-python",
   "name": "python",
   "nbconvert_exporter": "python",
   "pygments_lexer": "ipython3",
   "version": "3.9.12"
  }
 },
 "nbformat": 4,
 "nbformat_minor": 5
}
