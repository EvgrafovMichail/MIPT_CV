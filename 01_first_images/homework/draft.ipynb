{
 "cells": [
  {
   "cell_type": "code",
   "execution_count": 1,
   "id": "d7a1ae44",
   "metadata": {},
   "outputs": [],
   "source": [
    "import matplotlib.pyplot as plt\n",
    "import numpy as np\n",
    "import cv2 as cv"
   ]
  },
  {
   "cell_type": "code",
   "execution_count": 2,
   "id": "e14af253",
   "metadata": {},
   "outputs": [],
   "source": [
    "WHITE = np.array([255, 255, 255], dtype=np.uint8)\n",
    "BLACK = np.array([0, 0, 0], dtype=np.uint8)\n",
    "\n",
    "path_maze = './mazes/3030.png'"
   ]
  },
  {
   "cell_type": "code",
   "execution_count": 3,
   "id": "f0dd002d",
   "metadata": {},
   "outputs": [],
   "source": [
    "image_maze = cv.imread(path_maze)"
   ]
  },
  {
   "cell_type": "code",
   "execution_count": 4,
   "id": "340a43b3",
   "metadata": {},
   "outputs": [],
   "source": [
    "class MazeGraph:\n",
    "    \n",
    "    def __init__(self, image_maze):\n",
    "        \n",
    "        self.image = image_maze\n",
    "        \n",
    "        enter_start, enter_end = self.__identify_gap_h(0)\n",
    "        exit_start, exit_end = self.__identify_gap_h(self.image.shape[0] - 1)\n",
    "        wall_start, wall_end = self.__identify_gap_v(enter_start)\n",
    "\n",
    "        self.cell_width = enter_end - enter_start\n",
    "        wall_width = wall_end - wall_start\n",
    "        \n",
    "        self.step = self.cell_width + wall_width\n",
    "\n",
    "        shape = (self.image.shape[0] // self.step, \n",
    "                 self.image.shape[1] // self.step)\n",
    "\n",
    "        self.cells_visited = np.zeros(shape=shape, dtype=np.uint32)\n",
    "\n",
    "        self.start_v, self.start_h = wall_width, enter_start\n",
    "        self.stop = np.array([self.image.shape[0] - self.step, exit_start],\n",
    "                             dtype=np.uint32)\n",
    "        \n",
    "        self.queue = []\n",
    "        self.route = []\n",
    "\n",
    "    def __get_adj(self, i, j):\n",
    "        \n",
    "        adj = []\n",
    "        \n",
    "        if np.all(self.image[i + self.cell_width, j] == WHITE) and i + self.step < self.image.shape[0]:\n",
    "            adj.append(np.array([i + self.step, j], dtype=np.uint32))\n",
    "            \n",
    "        if np.all(self.image[i, j + self.cell_width] == WHITE) and j + self.step < self.image.shape[1]:\n",
    "            adj.append(np.array([i, j + self.step], dtype=np.uint32))\n",
    "            \n",
    "        if np.all(self.image[i - 1, j] == WHITE) and i - self.step > 0:\n",
    "            adj.append(np.array([i - self.step, j], dtype=np.uint32))\n",
    "            \n",
    "        if np.all(self.image[i, j - 1] == WHITE) and j - self.step > 0:\n",
    "            adj.append(np.array([i, j - self.step], dtype=np.uint32))\n",
    "            \n",
    "        return adj\n",
    "    \n",
    "    def __forward_pass(self):\n",
    "        \n",
    "        self.cells_visited[self.start_v // self.step, self.start_h // self.step] = 1\n",
    "        \n",
    "        self.queue.append(np.array([self.start_v, self.start_h], dtype=np.uint32))\n",
    "        \n",
    "        cell_curr = None\n",
    "        \n",
    "        is_exit_found = False\n",
    "        \n",
    "        while len(self.queue) and not is_exit_found:\n",
    "            \n",
    "            cell_curr = self.queue.pop(0)\n",
    "            adjs = self.__get_adj(cell_curr[0], cell_curr[1])\n",
    "            \n",
    "            for adj in adjs:\n",
    "                \n",
    "                i_curr, j_curr = cell_curr // self.step \n",
    "                i, j = adj // self.step\n",
    "                \n",
    "                if self.cells_visited[i, j] == 0:\n",
    "                \n",
    "                    self.cells_visited[i, j] = self.cells_visited[i_curr, j_curr] + 1\n",
    "\n",
    "                    if np.all(adj == self.stop):\n",
    "\n",
    "                        is_exit_found = True\n",
    "                        break\n",
    "\n",
    "                    self.queue.append(adj)\n",
    "        \n",
    "    def __backward_pass(self):\n",
    "        \n",
    "        i, j = self.stop // self.step\n",
    "        \n",
    "        dist_curr = self.cells_visited[i, j]\n",
    "        cell_curr = self.stop\n",
    "        \n",
    "        self.route.append(self.stop)\n",
    "        \n",
    "        while dist_curr != 1:\n",
    "            \n",
    "            adjs = self.__get_adj(cell_curr[0], cell_curr[1])\n",
    "            \n",
    "            for adj in adjs:\n",
    "                \n",
    "                i, j = adj // self.step\n",
    "                \n",
    "                if self.cells_visited[i, j] == dist_curr - 1:\n",
    "                    \n",
    "                    cell_curr = adj\n",
    "                    dist_curr -= 1\n",
    "                    \n",
    "                    break\n",
    "\n",
    "            self.route.append(cell_curr)\n",
    "                \n",
    "    def __identify_gap_h(self, row):\n",
    "        \n",
    "        color_prev = self.image[row, 0]\n",
    "        gap_start, gap_end = None, None\n",
    "\n",
    "        for i in range(1, self.image.shape[1]):\n",
    "\n",
    "            if np.all(self.image[row, i] != color_prev):\n",
    "                color_prev = self.image[row, i]\n",
    "                gap_start = i\n",
    "                break\n",
    "\n",
    "        for i in range(gap_start, self.image.shape[1]):\n",
    "\n",
    "            if np.all(self.image[row, i] != color_prev):\n",
    "                gap_end = i\n",
    "                break\n",
    "\n",
    "        return gap_start, gap_end\n",
    "    \n",
    "    def __identify_gap_v(self, column):\n",
    "        \n",
    "        color_prev = self.image[0, column]\n",
    "        gap_start, gap_end = None, None\n",
    "\n",
    "        for i in range(1, self.image.shape[0]):\n",
    "\n",
    "            if np.all(self.image[i, column] != color_prev):\n",
    "                color_prev = self.image[i, column]\n",
    "                gap_start = i\n",
    "                break\n",
    "\n",
    "        for i in range(gap_start, self.image.shape[0]):\n",
    "\n",
    "            if np.all(self.image[i, column] != color_prev):\n",
    "                gap_end = i\n",
    "                break\n",
    "\n",
    "        return gap_start, gap_end\n",
    "    \n",
    "    def get_route(self):\n",
    "        \n",
    "        self.__forward_pass()\n",
    "        self.__backward_pass()\n",
    "        \n",
    "        self.route.reverse()\n",
    "        \n",
    "        route = np.array(self.route)\n",
    "        route += self.cell_width // 2\n",
    "        \n",
    "        exit = np.array([self.image.shape[0], route[-1, 1]], dtype=np.uint32)\n",
    "        enter = np.array([0, route[0, 1]], dtype=np.uint32)\n",
    "        \n",
    "        route = np.vstack((enter, route, exit))\n",
    "        \n",
    "        self.route = []\n",
    "        \n",
    "        return route"
   ]
  },
  {
   "cell_type": "code",
   "execution_count": 5,
   "id": "e852911c",
   "metadata": {},
   "outputs": [],
   "source": [
    "mg = MazeGraph(image_maze)"
   ]
  },
  {
   "cell_type": "code",
   "execution_count": 6,
   "id": "2dfb21d1",
   "metadata": {},
   "outputs": [
    {
     "name": "stdout",
     "output_type": "stream",
     "text": [
      "CPU times: total: 62.5 ms\n",
      "Wall time: 57 ms\n"
     ]
    }
   ],
   "source": [
    "%%time\n",
    "\n",
    "arr = mg.get_route()"
   ]
  },
  {
   "cell_type": "code",
   "execution_count": 7,
   "id": "4b2282dc",
   "metadata": {},
   "outputs": [
    {
     "data": {
      "image/png": "[encoded data removed]",
      "text/plain": [
       "<Figure size 648x648 with 1 Axes>"
      ]
     },
     "metadata": {
      "needs_background": "light"
     },
     "output_type": "display_data"
    }
   ],
   "source": [
    "plt.figure(figsize=(9, 9))\n",
    "plt.imshow(image_maze)\n",
    "plt.axis('off')\n",
    "plt.plot(arr[:, 1], arr[:, 0], c='r');"
   ]
  },
  {
   "cell_type": "code",
   "execution_count": null,
   "id": "c7f69035",
   "metadata": {},
   "outputs": [],
   "source": []
  }
 ],
 "metadata": {
  "kernelspec": {
   "display_name": "Python 3 (ipykernel)",
   "language": "python",
   "name": "python3"
  },
  "language_info": {
   "codemirror_mode": {
    "name": "ipython",
    "version": 3
   },
   "file_extension": ".py",
   "mimetype": "text/x-python",
   "name": "python",
   "nbconvert_exporter": "python",
   "pygments_lexer": "ipython3",
   "version": "3.9.12"
  }
 },
 "nbformat": 4,
 "nbformat_minor": 5
}
